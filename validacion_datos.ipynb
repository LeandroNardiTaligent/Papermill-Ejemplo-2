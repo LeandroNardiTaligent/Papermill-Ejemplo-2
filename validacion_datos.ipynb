{
 "cells": [
  {
   "cell_type": "code",
   "execution_count": 21,
   "metadata": {},
   "outputs": [],
   "source": [
    "import pandas as pd\n",
    "import os"
   ]
  },
  {
   "cell_type": "code",
   "execution_count": 22,
   "metadata": {},
   "outputs": [],
   "source": [
    "# Variables Globales\n",
    "PATH = os.getcwd()\n",
    "INPUT_FOLDER = 'input'\n",
    "AUX_FOLDER = 'aux_file'\n",
    "INPUT_FILENAME = 'dataset.xlsx'\n",
    "OUTPUT_FILENAME = 'dataset_validado.xlsx'\n",
    "ERROR = False"
   ]
  },
  {
   "cell_type": "code",
   "execution_count": 23,
   "metadata": {},
   "outputs": [],
   "source": [
    "# Si no esta la carpeta aux_file, la creo\n",
    "if not os.path.exists(os.path.join(PATH, AUX_FOLDER)):\n",
    "    os.mkdir(AUX_FOLDER)"
   ]
  },
  {
   "cell_type": "code",
   "execution_count": 24,
   "metadata": {},
   "outputs": [],
   "source": [
    "# Cargo los datos\n",
    "data = pd.read_excel(os.path.join(PATH, INPUT_FOLDER, INPUT_FILENAME))"
   ]
  },
  {
   "cell_type": "code",
   "execution_count": 25,
   "metadata": {},
   "outputs": [
    {
     "data": {
      "text/html": [
       "<div>\n",
       "<style scoped>\n",
       "    .dataframe tbody tr th:only-of-type {\n",
       "        vertical-align: middle;\n",
       "    }\n",
       "\n",
       "    .dataframe tbody tr th {\n",
       "        vertical-align: top;\n",
       "    }\n",
       "\n",
       "    .dataframe thead th {\n",
       "        text-align: right;\n",
       "    }\n",
       "</style>\n",
       "<table border=\"1\" class=\"dataframe\">\n",
       "  <thead>\n",
       "    <tr style=\"text-align: right;\">\n",
       "      <th></th>\n",
       "      <th>Fecha</th>\n",
       "      <th>Area</th>\n",
       "      <th>Habitaciones</th>\n",
       "      <th>Antiguedad</th>\n",
       "      <th>Precio</th>\n",
       "    </tr>\n",
       "  </thead>\n",
       "  <tbody>\n",
       "    <tr>\n",
       "      <th>0</th>\n",
       "      <td>2019-01-19</td>\n",
       "      <td>112</td>\n",
       "      <td>4</td>\n",
       "      <td>68</td>\n",
       "      <td>266799.352789</td>\n",
       "    </tr>\n",
       "    <tr>\n",
       "      <th>1</th>\n",
       "      <td>2008-01-27</td>\n",
       "      <td>73</td>\n",
       "      <td>3</td>\n",
       "      <td>69</td>\n",
       "      <td>134218.332321</td>\n",
       "    </tr>\n",
       "    <tr>\n",
       "      <th>2</th>\n",
       "      <td>2004-03-20</td>\n",
       "      <td>155</td>\n",
       "      <td>1</td>\n",
       "      <td>24</td>\n",
       "      <td>435912.549847</td>\n",
       "    </tr>\n",
       "    <tr>\n",
       "      <th>3</th>\n",
       "      <td>2019-09-02</td>\n",
       "      <td>189</td>\n",
       "      <td>5</td>\n",
       "      <td>69</td>\n",
       "      <td>506809.606406</td>\n",
       "    </tr>\n",
       "    <tr>\n",
       "      <th>4</th>\n",
       "      <td>2015-05-27</td>\n",
       "      <td>168</td>\n",
       "      <td>2</td>\n",
       "      <td>92</td>\n",
       "      <td>343097.223933</td>\n",
       "    </tr>\n",
       "  </tbody>\n",
       "</table>\n",
       "</div>"
      ],
      "text/plain": [
       "       Fecha  Area  Habitaciones  Antiguedad         Precio\n",
       "0 2019-01-19   112             4          68  266799.352789\n",
       "1 2008-01-27    73             3          69  134218.332321\n",
       "2 2004-03-20   155             1          24  435912.549847\n",
       "3 2019-09-02   189             5          69  506809.606406\n",
       "4 2015-05-27   168             2          92  343097.223933"
      ]
     },
     "execution_count": 25,
     "metadata": {},
     "output_type": "execute_result"
    }
   ],
   "source": [
    "data.head()"
   ]
  },
  {
   "cell_type": "code",
   "execution_count": 26,
   "metadata": {},
   "outputs": [],
   "source": [
    "# Validacion del campo Fecha\n",
    "try:\n",
    "    data['Fecha'] = pd.to_datetime(data['Fecha'], format = '%Y-%m-%d')\n",
    "    data.to_excel(os.path.join(PATH, AUX_FOLDER, OUTPUT_FILENAME), index=False)\n",
    "except:\n",
    "    print('El campo Fecha no se encuentra cargado correctamente')\n",
    "    ERROR = True"
   ]
  },
  {
   "cell_type": "code",
   "execution_count": 27,
   "metadata": {},
   "outputs": [],
   "source": [
    "if ERROR:\n",
    "    os._exit(os.EX_OK)"
   ]
  }
 ],
 "metadata": {
  "kernelspec": {
   "display_name": "venv",
   "language": "python",
   "name": "python3"
  },
  "language_info": {
   "codemirror_mode": {
    "name": "ipython",
    "version": 3
   },
   "file_extension": ".py",
   "mimetype": "text/x-python",
   "name": "python",
   "nbconvert_exporter": "python",
   "pygments_lexer": "ipython3",
   "version": "3.11.2"
  },
  "orig_nbformat": 4
 },
 "nbformat": 4,
 "nbformat_minor": 2
}
