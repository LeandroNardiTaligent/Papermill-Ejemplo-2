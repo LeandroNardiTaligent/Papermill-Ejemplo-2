{
 "cells": [
  {
   "cell_type": "code",
   "execution_count": 10,
   "metadata": {},
   "outputs": [],
   "source": [
    "import numpy as np\n",
    "import pandas as pd\n",
    "import os\n",
    "from sklearn.preprocessing import StandardScaler\n",
    "import joblib"
   ]
  },
  {
   "cell_type": "code",
   "execution_count": 11,
   "metadata": {},
   "outputs": [],
   "source": [
    "# Variables Globales\n",
    "PATH = os.getcwd()\n",
    "AUX_FOLDER = 'aux_file'\n",
    "OUTPUT = 'output'\n",
    "MODEL_PARAMETERS = 'model_weights.pkl'\n",
    "OUTPUT_FILENAME = 'predictions.xlsx'"
   ]
  },
  {
   "cell_type": "code",
   "execution_count": 12,
   "metadata": {},
   "outputs": [],
   "source": [
    "# Si no esta la carpeta aux_file, la creo\n",
    "if not os.path.exists(os.path.join(PATH, OUTPUT)):\n",
    "    os.mkdir(OUTPUT)"
   ]
  },
  {
   "cell_type": "code",
   "execution_count": 13,
   "metadata": {},
   "outputs": [],
   "source": [
    "new_data = {\n",
    "    'Fecha': ['2021-01-01', '2021-02-01', '2021-03-01', '2021-04-01', '2021-05-01'],\n",
    "    'Area': [100, 200, 150, 120, 180],\n",
    "    'Habitaciones': [2, 3, 4, 3, 4],\n",
    "    'Antiguedad': [10, 20, 30, 40, 50],\n",
    "}\n",
    "\n",
    "new_df = pd.DataFrame(new_data)"
   ]
  },
  {
   "cell_type": "code",
   "execution_count": 14,
   "metadata": {
    "tags": [
     "parameters"
    ]
   },
   "outputs": [],
   "source": [
    "media = [0, 0, 0, 0]\n",
    "desv_estandar = [1, 1, 1, 1]"
   ]
  },
  {
   "cell_type": "code",
   "execution_count": 15,
   "metadata": {},
   "outputs": [],
   "source": [
    "# Aplicar el mismo preprocesamiento que al dataset original\n",
    "scaled_new_data = (new_df[['Area', 'Habitaciones', 'Antiguedad']] - media[:-1]) / desv_estandar[:-1]\n",
    "new_df_scaled = pd.DataFrame(scaled_new_data, columns=['Area', 'Habitaciones', 'Antiguedad'])\n",
    "\n",
    "# Cargar el modelo previously trained desde su archivo \"model_weights.plk\"\n",
    "coeficientes, intercept = joblib.load(os.path.join(PATH, AUX_FOLDER, MODEL_PARAMETERS))\n",
    "\n",
    "# Realizar predicciones con el modelo entrenado\n",
    "predictions =  np.dot(new_df_scaled, coeficientes.reshape(-1,1)) + intercept\n",
    "\n",
    "# Escalo el resultado\n",
    "predictions = (predictions * desv_estandar[-1]) + media[-1]\n",
    "\n",
    "# Guardar las predicciones en un archivo de Excel\n",
    "predictions_df = pd.DataFrame(predictions, columns=['Predicciones'])\n",
    "predictions_df = pd.concat([new_df, predictions_df], axis=1)\n",
    "predictions_df.to_excel(os.path.join(PATH, OUTPUT, OUTPUT_FILENAME), index=False)"
   ]
  },
  {
   "cell_type": "code",
   "execution_count": 16,
   "metadata": {},
   "outputs": [
    {
     "data": {
      "text/plain": [
       "array([ 0.90823251,  0.14657549, -0.40227113])"
      ]
     },
     "execution_count": 16,
     "metadata": {},
     "output_type": "execute_result"
    }
   ],
   "source": [
    "coeficientes"
   ]
  },
  {
   "cell_type": "code",
   "execution_count": 17,
   "metadata": {},
   "outputs": [
    {
     "data": {
      "text/plain": [
       "-1.711782466653068e-16"
      ]
     },
     "execution_count": 17,
     "metadata": {},
     "output_type": "execute_result"
    }
   ],
   "source": [
    "intercept"
   ]
  },
  {
   "cell_type": "code",
   "execution_count": 18,
   "metadata": {},
   "outputs": [
    {
     "data": {
      "text/html": [
       "<div>\n",
       "<style scoped>\n",
       "    .dataframe tbody tr th:only-of-type {\n",
       "        vertical-align: middle;\n",
       "    }\n",
       "\n",
       "    .dataframe tbody tr th {\n",
       "        vertical-align: top;\n",
       "    }\n",
       "\n",
       "    .dataframe thead th {\n",
       "        text-align: right;\n",
       "    }\n",
       "</style>\n",
       "<table border=\"1\" class=\"dataframe\">\n",
       "  <thead>\n",
       "    <tr style=\"text-align: right;\">\n",
       "      <th></th>\n",
       "      <th>Fecha</th>\n",
       "      <th>Area</th>\n",
       "      <th>Habitaciones</th>\n",
       "      <th>Antiguedad</th>\n",
       "      <th>Predicciones</th>\n",
       "    </tr>\n",
       "  </thead>\n",
       "  <tbody>\n",
       "    <tr>\n",
       "      <th>0</th>\n",
       "      <td>2021-01-01</td>\n",
       "      <td>100</td>\n",
       "      <td>2</td>\n",
       "      <td>10</td>\n",
       "      <td>87.093690</td>\n",
       "    </tr>\n",
       "    <tr>\n",
       "      <th>1</th>\n",
       "      <td>2021-02-01</td>\n",
       "      <td>200</td>\n",
       "      <td>3</td>\n",
       "      <td>20</td>\n",
       "      <td>174.040805</td>\n",
       "    </tr>\n",
       "    <tr>\n",
       "      <th>2</th>\n",
       "      <td>2021-03-01</td>\n",
       "      <td>150</td>\n",
       "      <td>4</td>\n",
       "      <td>30</td>\n",
       "      <td>124.753044</td>\n",
       "    </tr>\n",
       "    <tr>\n",
       "      <th>3</th>\n",
       "      <td>2021-04-01</td>\n",
       "      <td>120</td>\n",
       "      <td>3</td>\n",
       "      <td>40</td>\n",
       "      <td>93.336782</td>\n",
       "    </tr>\n",
       "    <tr>\n",
       "      <th>4</th>\n",
       "      <td>2021-05-01</td>\n",
       "      <td>180</td>\n",
       "      <td>4</td>\n",
       "      <td>50</td>\n",
       "      <td>143.954596</td>\n",
       "    </tr>\n",
       "  </tbody>\n",
       "</table>\n",
       "</div>"
      ],
      "text/plain": [
       "        Fecha  Area  Habitaciones  Antiguedad  Predicciones\n",
       "0  2021-01-01   100             2          10     87.093690\n",
       "1  2021-02-01   200             3          20    174.040805\n",
       "2  2021-03-01   150             4          30    124.753044\n",
       "3  2021-04-01   120             3          40     93.336782\n",
       "4  2021-05-01   180             4          50    143.954596"
      ]
     },
     "execution_count": 18,
     "metadata": {},
     "output_type": "execute_result"
    }
   ],
   "source": [
    "predictions_df"
   ]
  }
 ],
 "metadata": {
  "kernelspec": {
   "display_name": "venv",
   "language": "python",
   "name": "python3"
  },
  "language_info": {
   "codemirror_mode": {
    "name": "ipython",
    "version": 3
   },
   "file_extension": ".py",
   "mimetype": "text/x-python",
   "name": "python",
   "nbconvert_exporter": "python",
   "pygments_lexer": "ipython3",
   "version": "3.11.2"
  },
  "orig_nbformat": 4
 },
 "nbformat": 4,
 "nbformat_minor": 2
}
